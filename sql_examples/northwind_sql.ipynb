{
 "cells": [
  {
   "attachments": {},
   "cell_type": "markdown",
   "metadata": {},
   "source": [
    "I will be working with Northwind DB. This is a popular example DWH database. "
   ]
  },
  {
   "cell_type": "code",
   "execution_count": 30,
   "metadata": {},
   "outputs": [],
   "source": [
    "import pandas as pd\n",
    "\n",
    "# Read CSV files\n",
    "df1 = pd.read_csv('./northwind/products.csv')\n",
    "df2 = pd.read_csv('./northwind/orders.csv')\n",
    "df3 = pd.read_csv('./northwind/order_details.csv')\n",
    "df4 = pd.read_csv('./northwind/customers.csv')\n",
    "df5 = pd.read_csv('./northwind/categories.csv')\n",
    "df6 = pd.read_csv('./northwind/employees.csv')\n"
   ]
  },
  {
   "cell_type": "code",
   "execution_count": 31,
   "metadata": {},
   "outputs": [],
   "source": [
    "from sqlalchemy import create_engine\n",
    "\n",
    "# Create SQLite in-memory database\n",
    "engine = create_engine('sqlite:///:memory:')"
   ]
  },
  {
   "cell_type": "code",
   "execution_count": 32,
   "metadata": {},
   "outputs": [
    {
     "data": {
      "text/plain": [
       "9"
      ]
     },
     "execution_count": 32,
     "metadata": {},
     "output_type": "execute_result"
    }
   ],
   "source": [
    "# Add the CSVs to SQLite database as tables\n",
    "df1.to_sql('products', engine, index=False)\n",
    "df2.to_sql('orders', engine, index=False)\n",
    "df3.to_sql('order_details', engine, index=False)\n",
    "df4.to_sql('customers', engine, index=False)\n",
    "df5.to_sql('categories', engine, index=False)\n",
    "df6.to_sql('employees', engine, index=False)"
   ]
  },
  {
   "attachments": {},
   "cell_type": "markdown",
   "metadata": {},
   "source": [
    "Describe the tables."
   ]
  },
  {
   "cell_type": "code",
   "execution_count": 4,
   "metadata": {},
   "outputs": [
    {
     "name": "stdout",
     "output_type": "stream",
     "text": [
      "    cid          name  type  notnull dflt_value  pk\n",
      "0     0    customerID  TEXT        0       None   0\n",
      "1     1   companyName  TEXT        0       None   0\n",
      "2     2   contactName  TEXT        0       None   0\n",
      "3     3  contactTitle  TEXT        0       None   0\n",
      "4     4       address  TEXT        0       None   0\n",
      "5     5          city  TEXT        0       None   0\n",
      "6     6        region  TEXT        0       None   0\n",
      "7     7    postalCode  TEXT        0       None   0\n",
      "8     8       country  TEXT        0       None   0\n",
      "9     9         phone  TEXT        0       None   0\n",
      "10   10           fax  TEXT        0       None   0\n"
     ]
    }
   ],
   "source": [
    "query = \"\"\"\n",
    "PRAGMA table_info([customers]);\n",
    "\"\"\"\n",
    "\n",
    "result = pd.read_sql(query, engine)\n",
    "print(result)"
   ]
  },
  {
   "cell_type": "code",
   "execution_count": 5,
   "metadata": {},
   "outputs": [
    {
     "name": "stdout",
     "output_type": "stream",
     "text": [
      "   cid             name    type  notnull dflt_value  pk\n",
      "0    0        productID  BIGINT        0       None   0\n",
      "1    1      productName    TEXT        0       None   0\n",
      "2    2       supplierID  BIGINT        0       None   0\n",
      "3    3       categoryID  BIGINT        0       None   0\n",
      "4    4  quantityPerUnit    TEXT        0       None   0\n",
      "5    5        unitPrice   FLOAT        0       None   0\n",
      "6    6     unitsInStock  BIGINT        0       None   0\n",
      "7    7     unitsOnOrder  BIGINT        0       None   0\n",
      "8    8     reorderLevel  BIGINT        0       None   0\n",
      "9    9     discontinued  BIGINT        0       None   0\n"
     ]
    }
   ],
   "source": [
    "query = \"\"\"\n",
    "PRAGMA table_info([products]);\n",
    "\"\"\"\n",
    "\n",
    "result = pd.read_sql(query, engine)\n",
    "print(result)"
   ]
  },
  {
   "cell_type": "code",
   "execution_count": 7,
   "metadata": {},
   "outputs": [
    {
     "name": "stdout",
     "output_type": "stream",
     "text": [
      "    cid            name    type  notnull dflt_value  pk\n",
      "0     0         orderID  BIGINT        0       None   0\n",
      "1     1      customerID    TEXT        0       None   0\n",
      "2     2      employeeID  BIGINT        0       None   0\n",
      "3     3       orderDate    TEXT        0       None   0\n",
      "4     4    requiredDate    TEXT        0       None   0\n",
      "5     5     shippedDate    TEXT        0       None   0\n",
      "6     6         shipVia  BIGINT        0       None   0\n",
      "7     7         freight   FLOAT        0       None   0\n",
      "8     8        shipName    TEXT        0       None   0\n",
      "9     9     shipAddress    TEXT        0       None   0\n",
      "10   10        shipCity    TEXT        0       None   0\n",
      "11   11      shipRegion    TEXT        0       None   0\n",
      "12   12  shipPostalCode    TEXT        0       None   0\n",
      "13   13     shipCountry    TEXT        0       None   0\n"
     ]
    }
   ],
   "source": [
    "query = \"\"\"\n",
    "PRAGMA table_info([orders]);\n",
    "\"\"\"\n",
    "\n",
    "result = pd.read_sql(query, engine)\n",
    "print(result)"
   ]
  },
  {
   "cell_type": "code",
   "execution_count": 8,
   "metadata": {},
   "outputs": [
    {
     "name": "stdout",
     "output_type": "stream",
     "text": [
      "   cid       name    type  notnull dflt_value  pk\n",
      "0    0    orderID  BIGINT        0       None   0\n",
      "1    1  productID  BIGINT        0       None   0\n",
      "2    2  unitPrice   FLOAT        0       None   0\n",
      "3    3   quantity  BIGINT        0       None   0\n",
      "4    4   discount   FLOAT        0       None   0\n"
     ]
    }
   ],
   "source": [
    "query = \"\"\"\n",
    "PRAGMA table_info([order_details]);\n",
    "\"\"\"\n",
    "\n",
    "result = pd.read_sql(query, engine)\n",
    "print(result)"
   ]
  },
  {
   "cell_type": "code",
   "execution_count": 13,
   "metadata": {},
   "outputs": [
    {
     "name": "stdout",
     "output_type": "stream",
     "text": [
      "   cid          name    type  notnull dflt_value  pk\n",
      "0    0    categoryID  BIGINT        0       None   0\n",
      "1    1  categoryName    TEXT        0       None   0\n",
      "2    2   description    TEXT        0       None   0\n",
      "3    3       picture    TEXT        0       None   0\n"
     ]
    }
   ],
   "source": [
    "query = \"\"\"\n",
    "PRAGMA table_info([categories]);\n",
    "\"\"\"\n",
    "\n",
    "result = pd.read_sql(query, engine)\n",
    "print(result)"
   ]
  },
  {
   "cell_type": "code",
   "execution_count": 14,
   "metadata": {},
   "outputs": [
    {
     "name": "stdout",
     "output_type": "stream",
     "text": [
      "    cid             name    type  notnull dflt_value  pk\n",
      "0     0       employeeID  BIGINT        0       None   0\n",
      "1     1         lastName    TEXT        0       None   0\n",
      "2     2        firstName    TEXT        0       None   0\n",
      "3     3            title    TEXT        0       None   0\n",
      "4     4  titleOfCourtesy    TEXT        0       None   0\n",
      "5     5        birthDate    TEXT        0       None   0\n",
      "6     6         hireDate    TEXT        0       None   0\n",
      "7     7          address    TEXT        0       None   0\n",
      "8     8             city    TEXT        0       None   0\n",
      "9     9           region    TEXT        0       None   0\n",
      "10   10       postalCode    TEXT        0       None   0\n",
      "11   11          country    TEXT        0       None   0\n",
      "12   12        homePhone    TEXT        0       None   0\n",
      "13   13        extension  BIGINT        0       None   0\n",
      "14   14            photo    TEXT        0       None   0\n",
      "15   15            notes    TEXT        0       None   0\n",
      "16   16        reportsTo   FLOAT        0       None   0\n",
      "17   17        photoPath    TEXT        0       None   0\n"
     ]
    }
   ],
   "source": [
    "query = \"\"\"\n",
    "PRAGMA table_info([employees]);\n",
    "\"\"\"\n",
    "\n",
    "result = pd.read_sql(query, engine)\n",
    "print(result)"
   ]
  },
  {
   "attachments": {},
   "cell_type": "markdown",
   "metadata": {},
   "source": [
    "--- QUESTIONS PART ---\n",
    "\n",
    "Q1. Find the top 5 employees who have taken the most orders?"
   ]
  },
  {
   "attachments": {},
   "cell_type": "markdown",
   "metadata": {},
   "source": [
    "First I will manipulate the table to add another column named 'fullName'"
   ]
  },
  {
   "cell_type": "code",
   "execution_count": 33,
   "metadata": {},
   "outputs": [
    {
     "data": {
      "text/plain": [
       "<sqlalchemy.engine.cursor.LegacyCursorResult at 0x1e562e1f3d0>"
      ]
     },
     "execution_count": 33,
     "metadata": {},
     "output_type": "execute_result"
    }
   ],
   "source": [
    "from sqlalchemy import text\n",
    "\n",
    "query = \"\"\"\n",
    "    ALTER TABLE employees\n",
    "    ADD COLUMN 'fullName' GENERATED ALWAYS AS (firstName || ' ' || lastName);\n",
    "\"\"\"\n",
    "\n",
    "engine.execute(text(query))"
   ]
  },
  {
   "attachments": {},
   "cell_type": "markdown",
   "metadata": {},
   "source": [
    "Now, I write the answer."
   ]
  },
  {
   "cell_type": "code",
   "execution_count": 34,
   "metadata": {},
   "outputs": [
    {
     "name": "stdout",
     "output_type": "stream",
     "text": [
      "          Full Name  Orders\n",
      "0  Margaret Peacock     156\n",
      "1   Janet Leverling     127\n",
      "2     Nancy Davolio     123\n",
      "3    Laura Callahan     104\n",
      "4     Andrew Fuller      96\n"
     ]
    }
   ],
   "source": [
    "query = \"\"\"\n",
    "    SELECT e.fullName AS 'Full Name', COUNT(o.orderId) AS 'Orders'\n",
    "    FROM employees e\n",
    "    JOIN orders o\n",
    "    ON o.employeeId = e.employeeId\n",
    "    GROUP BY e.employeeId\n",
    "    ORDER BY [Orders] DESC\n",
    "    LIMIT 5;\n",
    "\"\"\"\n",
    "\n",
    "result = pd.read_sql(query, engine)\n",
    "print(result)"
   ]
  },
  {
   "attachments": {},
   "cell_type": "markdown",
   "metadata": {},
   "source": [
    "Q2. Find the costumers with the least varied orders (least categories)."
   ]
  },
  {
   "cell_type": "code",
   "execution_count": 47,
   "metadata": {},
   "outputs": [
    {
     "name": "stdout",
     "output_type": "stream",
     "text": [
      "                  companyName  Categories\n",
      "0  Centro comercial Moctezuma           2\n",
      "1        Lazy K Kountry Store           2\n",
      "2                 North/South           3\n",
      "3   Vins et alcools Chevalier           3\n",
      "4   Bólido Comidas preparadas           4\n"
     ]
    }
   ],
   "source": [
    "query = \"\"\"\n",
    "    SELECT c.companyName, COUNT(DISTINCT p.categoryId) AS 'Categories'\n",
    "    FROM customers c\n",
    "    JOIN orders o \n",
    "        ON o.customerId = c.customerId\n",
    "    JOIN order_details od \n",
    "        ON od.orderId = o.orderId\n",
    "    JOIN products p\n",
    "        ON p.productId = od.productId\n",
    "    GROUP BY c.customerId\n",
    "    ORDER BY [Categories] ASC\n",
    "    LIMIT 5; \n",
    "\"\"\"\n",
    "\n",
    "result = pd.read_sql(query, engine)\n",
    "print(result)"
   ]
  },
  {
   "attachments": {},
   "cell_type": "markdown",
   "metadata": {},
   "source": [
    "Closing the engine."
   ]
  },
  {
   "cell_type": "code",
   "execution_count": 29,
   "metadata": {},
   "outputs": [],
   "source": [
    "engine.dispose()"
   ]
  }
 ],
 "metadata": {
  "kernelspec": {
   "display_name": "Python 3",
   "language": "python",
   "name": "python3"
  },
  "language_info": {
   "codemirror_mode": {
    "name": "ipython",
    "version": 3
   },
   "file_extension": ".py",
   "mimetype": "text/x-python",
   "name": "python",
   "nbconvert_exporter": "python",
   "pygments_lexer": "ipython3",
   "version": "3.9.1"
  },
  "orig_nbformat": 4
 },
 "nbformat": 4,
 "nbformat_minor": 2
}
