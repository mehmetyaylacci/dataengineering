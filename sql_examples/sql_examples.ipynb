{
 "cells": [
  {
   "cell_type": "code",
   "execution_count": 1,
   "metadata": {},
   "outputs": [],
   "source": [
    "import pandas as pd\n",
    "\n",
    "# Read CSV files\n",
    "df1 = pd.read_csv('./transfermarkt_cleaned/clubs.csv')\n",
    "df2 = pd.read_csv('./transfermarkt_cleaned/players.csv')\n",
    "df3 = pd.read_csv('./transfermarkt_cleaned/appearances.csv')\n",
    "df4 = pd.read_csv('./transfermarkt_cleaned/games.csv')\n"
   ]
  },
  {
   "cell_type": "code",
   "execution_count": 2,
   "metadata": {},
   "outputs": [],
   "source": [
    "from sqlalchemy import create_engine\n",
    "\n",
    "# Create SQLite in-memory database\n",
    "engine = create_engine('sqlite:///:memory:')"
   ]
  },
  {
   "cell_type": "code",
   "execution_count": 3,
   "metadata": {},
   "outputs": [
    {
     "data": {
      "text/plain": [
       "2419"
      ]
     },
     "execution_count": 3,
     "metadata": {},
     "output_type": "execute_result"
    }
   ],
   "source": [
    "# Add the CSVs to SQLite database as tables\n",
    "df1.to_sql('clubs', engine, index=False)\n",
    "df2.to_sql('players', engine, index=False)\n",
    "df3.to_sql('appearances', engine, index=False)\n",
    "df4.to_sql('games', engine, index=False)"
   ]
  },
  {
   "attachments": {},
   "cell_type": "markdown",
   "metadata": {},
   "source": [
    "Describe the tables."
   ]
  },
  {
   "cell_type": "code",
   "execution_count": 6,
   "metadata": {},
   "outputs": [
    {
     "name": "stdout",
     "output_type": "stream",
     "text": [
      "    cid                    name    type  notnull dflt_value  pk\n",
      "0     0                 game_id  BIGINT        0       None   0\n",
      "1     1          competition_id    TEXT        0       None   0\n",
      "2     2                  season  BIGINT        0       None   0\n",
      "3     3                   round    TEXT        0       None   0\n",
      "4     4                    date    TEXT        0       None   0\n",
      "5     5            home_club_id  BIGINT        0       None   0\n",
      "6     6            away_club_id  BIGINT        0       None   0\n",
      "7     7         home_club_goals  BIGINT        0       None   0\n",
      "8     8         away_club_goals  BIGINT        0       None   0\n",
      "9     9      home_club_position   FLOAT        0       None   0\n",
      "10   10      away_club_position   FLOAT        0       None   0\n",
      "11   11  home_club_manager_name    TEXT        0       None   0\n",
      "12   12  away_club_manager_name    TEXT        0       None   0\n",
      "13   13                 stadium    TEXT        0       None   0\n",
      "14   14              attendance   FLOAT        0       None   0\n",
      "15   15                 referee    TEXT        0       None   0\n",
      "16   16                     url    TEXT        0       None   0\n",
      "17   17          home_club_name    TEXT        0       None   0\n",
      "18   18          away_club_name    TEXT        0       None   0\n",
      "19   19               aggregate    TEXT        0       None   0\n",
      "20   20        competition_type    TEXT        0       None   0\n"
     ]
    }
   ],
   "source": [
    "query = \"\"\"\n",
    "PRAGMA table_info([games]);\n",
    "\"\"\"\n",
    "\n",
    "result = pd.read_sql(query, engine)\n",
    "print(result)"
   ]
  },
  {
   "cell_type": "code",
   "execution_count": 7,
   "metadata": {},
   "outputs": [
    {
     "name": "stdout",
     "output_type": "stream",
     "text": [
      "    cid                    name    type  notnull dflt_value  pk\n",
      "0     0           appearance_id    TEXT        0       None   0\n",
      "1     1                 game_id  BIGINT        0       None   0\n",
      "2     2               player_id  BIGINT        0       None   0\n",
      "3     3          player_club_id  BIGINT        0       None   0\n",
      "4     4  player_current_club_id  BIGINT        0       None   0\n",
      "5     5                    date    TEXT        0       None   0\n",
      "6     6             player_name    TEXT        0       None   0\n",
      "7     7          competition_id    TEXT        0       None   0\n",
      "8     8            yellow_cards  BIGINT        0       None   0\n",
      "9     9               red_cards  BIGINT        0       None   0\n",
      "10   10                   goals  BIGINT        0       None   0\n",
      "11   11                 assists  BIGINT        0       None   0\n",
      "12   12          minutes_played  BIGINT        0       None   0\n"
     ]
    }
   ],
   "source": [
    "query = \"\"\"\n",
    "PRAGMA table_info([appearances]);\n",
    "\"\"\"\n",
    "\n",
    "result = pd.read_sql(query, engine)\n",
    "print(result)"
   ]
  },
  {
   "cell_type": "code",
   "execution_count": 8,
   "metadata": {},
   "outputs": [
    {
     "name": "stdout",
     "output_type": "stream",
     "text": [
      "   cid                         name    type  notnull dflt_value  pk\n",
      "0    0                    player_id  BIGINT        0       None   0\n",
      "1    1                         name    TEXT        0       None   0\n",
      "2    2                  last_season  BIGINT        0       None   0\n",
      "3    3              current_club_id  BIGINT        0       None   0\n",
      "4    4                 height_in_cm   FLOAT        0       None   0\n",
      "5    5          market_value_in_eur   FLOAT        0       None   0\n",
      "6    6  highest_market_value_in_eur   FLOAT        0       None   0\n"
     ]
    }
   ],
   "source": [
    "query = \"\"\"\n",
    "PRAGMA table_info([players]);\n",
    "\"\"\"\n",
    "\n",
    "result = pd.read_sql(query, engine)\n",
    "print(result)"
   ]
  },
  {
   "cell_type": "code",
   "execution_count": 9,
   "metadata": {},
   "outputs": [
    {
     "name": "stdout",
     "output_type": "stream",
     "text": [
      "   cid                     name    type  notnull dflt_value  pk\n",
      "0    0                  club_id  BIGINT        0       None   0\n",
      "1    1                     name    TEXT        0       None   0\n",
      "2    2  domestic_competition_id    TEXT        0       None   0\n",
      "3    3             stadium_name    TEXT        0       None   0\n",
      "4    4      net_transfer_record    TEXT        0       None   0\n",
      "5    5              last_season  BIGINT        0       None   0\n"
     ]
    }
   ],
   "source": [
    "query = \"\"\"\n",
    "PRAGMA table_info([clubs]);\n",
    "\"\"\"\n",
    "\n",
    "result = pd.read_sql(query, engine)\n",
    "print(result)"
   ]
  },
  {
   "attachments": {},
   "cell_type": "markdown",
   "metadata": {},
   "source": [
    "--- STARTING THE QUESTIONS PART ---\n",
    "\n",
    "Q1. Finding the average height of players in the leagues."
   ]
  },
  {
   "cell_type": "code",
   "execution_count": 12,
   "metadata": {},
   "outputs": [
    {
     "name": "stdout",
     "output_type": "stream",
     "text": [
      "  league  AVG(p.height_in_cm)\n",
      "0    ES1           181.649624\n",
      "1    FR1           181.836834\n",
      "2    GB1           182.731034\n",
      "3    IT1           184.190409\n",
      "4     L1           184.665535\n",
      "5    TR1           182.055306\n"
     ]
    }
   ],
   "source": [
    "query = \"\"\"\n",
    "    SELECT c.domestic_competition_id AS 'league', AVG(p.height_in_cm)\n",
    "    FROM clubs c \n",
    "    JOIN players p \n",
    "    ON p.current_club_id = c.club_id\n",
    "    GROUP BY c.domestic_competition_id;\n",
    "\"\"\"\n",
    "\n",
    "result = pd.read_sql(query, engine)\n",
    "print(result)"
   ]
  },
  {
   "attachments": {},
   "cell_type": "markdown",
   "metadata": {},
   "source": [
    "Here I wanted ChatGPT to generate me some questions."
   ]
  },
  {
   "attachments": {},
   "cell_type": "markdown",
   "metadata": {},
   "source": [
    "Q2. Determine which players had the biggest decrease in market value over their career (highest market value minus the current market value) limit by 5."
   ]
  },
  {
   "cell_type": "code",
   "execution_count": 41,
   "metadata": {},
   "outputs": [
    {
     "name": "stdout",
     "output_type": "stream",
     "text": [
      "                name  Value Difference\n",
      "0        Eden Hazard       145000000.0\n",
      "1       Lionel Messi       145000000.0\n",
      "2  Philippe Coutinho       140000000.0\n",
      "3         Sadio Mané       125000000.0\n",
      "4  Antoine Griezmann       125000000.0\n"
     ]
    }
   ],
   "source": [
    "query = \"\"\"\n",
    "    SELECT p.name, \n",
    "        (p.highest_market_value_in_eur - (\n",
    "                SELECT MIN(p2.market_value_in_eur) \n",
    "                FROM players p2 \n",
    "                WHERE p2.player_id = p.player_id\n",
    "            )\n",
    "        ) AS 'Value Difference'\n",
    "    FROM players p\n",
    "    ORDER BY [Value Difference] DESC\n",
    "    LIMIT 5;\n",
    "\"\"\"\n",
    "\n",
    "result = pd.read_sql(query, engine)\n",
    "print(result)"
   ]
  },
  {
   "attachments": {},
   "cell_type": "markdown",
   "metadata": {},
   "source": [
    "Q3. Which referee has given the most red cards in every league?"
   ]
  },
  {
   "cell_type": "code",
   "execution_count": 49,
   "metadata": {},
   "outputs": [
    {
     "name": "stdout",
     "output_type": "stream",
     "text": [
      "  domestic_competition_id                  referee  Red Cards\n",
      "0                     FR1          Mathieu Vernice          7\n",
      "1                     ES1  Carlos del Cerro Grande          7\n",
      "2                     TR1            Mete Kalkavan          6\n",
      "3                     IT1             Davide Massa          5\n",
      "4                      L1              Tobias Welz          4\n",
      "5                     GB1           Anthony Taylor          4\n"
     ]
    }
   ],
   "source": [
    "query = \"\"\"\n",
    "    WITH red_cards AS(\n",
    "        SELECT c.domestic_competition_id, g.referee, SUM(app.red_cards) AS 'sum_red_cards'\n",
    "        FROM games g\n",
    "        JOIN appearances app\n",
    "        ON g.game_id = app.game_id\n",
    "        JOIN clubs c\n",
    "        ON c.club_id = g.home_club_id\n",
    "        GROUP BY c.domestic_competition_id, g.referee\n",
    "    )\n",
    "    SELECT rc.domestic_competition_id, rc.referee, MAX(rc.sum_red_cards) AS 'Red Cards'\n",
    "    FROM red_cards rc\n",
    "    GROUP BY rc.domestic_competition_id\n",
    "    ORDER BY [Red Cards] DESC;\n",
    "\"\"\"\n",
    "\n",
    "result = pd.read_sql(query, engine)\n",
    "print(result)"
   ]
  },
  {
   "attachments": {},
   "cell_type": "markdown",
   "metadata": {},
   "source": [
    "Q4. Which players had the most red cards divided by the sum of games they have played, limit by 5, all leagues?"
   ]
  },
  {
   "cell_type": "code",
   "execution_count": 82,
   "metadata": {},
   "outputs": [
    {
     "name": "stdout",
     "output_type": "stream",
     "text": [
      "                   name    ratio  red_cards  games_played\n",
      "0        Jorge Herrando  1.00000          1             1\n",
      "1  Hasan Emre Yesilyurt  1.00000          1             1\n",
      "2        Luís Maximiano  0.33333          1             3\n",
      "3    Yaroslav Rakitskyi  0.25000          2             8\n",
      "4    Nathaniel Chalobah  0.20000          1             5\n"
     ]
    }
   ],
   "source": [
    "query = \"\"\"\n",
    "    WITH player_stats AS (\n",
    "        SELECT p.name, p.player_id, COUNT(app.appearance_id) AS 'games_played', SUM(app.red_cards) AS 'red_cards'\n",
    "        FROM players p\n",
    "        JOIN appearances app\n",
    "        ON p.player_id = app.player_id\n",
    "        GROUP BY p.player_id\n",
    "    )\n",
    "    SELECT ps.name, ROUND(1.0 * ps.red_cards / ps.games_played, 5) AS 'ratio', ps.red_cards, ps.games_played\n",
    "    FROM player_stats ps\n",
    "    WHERE ps.red_cards > 0\n",
    "    ORDER BY ratio DESC\n",
    "    LIMIT 5;\n",
    "\"\"\"\n",
    "\n",
    "result = pd.read_sql(query, engine)\n",
    "print(result)"
   ]
  },
  {
   "attachments": {},
   "cell_type": "markdown",
   "metadata": {},
   "source": [
    "Q5. Which clubs had the least number of yellow cards and red cards combined in the latest season? Rank the top 5."
   ]
  },
  {
   "attachments": {},
   "cell_type": "markdown",
   "metadata": {},
   "source": [
    "Q6. Identify players who have scored in at least 5 consecutive appearances. "
   ]
  },
  {
   "attachments": {},
   "cell_type": "markdown",
   "metadata": {},
   "source": [
    "Q7. Which stadium had the highest average attendance in the latest season? Include stadium name and the average attendance."
   ]
  },
  {
   "attachments": {},
   "cell_type": "markdown",
   "metadata": {},
   "source": [
    "Q8. Which manager had the most games where their team scored more than 3 goals in the latest season?"
   ]
  }
 ],
 "metadata": {
  "kernelspec": {
   "display_name": "Python 3",
   "language": "python",
   "name": "python3"
  },
  "language_info": {
   "codemirror_mode": {
    "name": "ipython",
    "version": 3
   },
   "file_extension": ".py",
   "mimetype": "text/x-python",
   "name": "python",
   "nbconvert_exporter": "python",
   "pygments_lexer": "ipython3",
   "version": "3.9.1"
  },
  "orig_nbformat": 4
 },
 "nbformat": 4,
 "nbformat_minor": 2
}
