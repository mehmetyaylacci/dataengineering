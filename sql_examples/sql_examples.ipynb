{
 "cells": [
  {
   "cell_type": "code",
   "execution_count": 1,
   "metadata": {},
   "outputs": [],
   "source": [
    "import pandas as pd\n",
    "\n",
    "# Read CSV files\n",
    "df1 = pd.read_csv('./transfermarkt_cleaned/clubs.csv')\n",
    "df2 = pd.read_csv('./transfermarkt_cleaned/players.csv')\n"
   ]
  },
  {
   "cell_type": "code",
   "execution_count": 2,
   "metadata": {},
   "outputs": [],
   "source": [
    "from sqlalchemy import create_engine\n",
    "\n",
    "# Create SQLite in-memory database\n",
    "engine = create_engine('sqlite:///:memory:')"
   ]
  },
  {
   "cell_type": "code",
   "execution_count": 3,
   "metadata": {},
   "outputs": [
    {
     "data": {
      "text/plain": [
       "13656"
      ]
     },
     "execution_count": 3,
     "metadata": {},
     "output_type": "execute_result"
    }
   ],
   "source": [
    "df1.to_sql('clubs', engine, index=False)\n",
    "df2.to_sql('players', engine, index=False)"
   ]
  },
  {
   "cell_type": "code",
   "execution_count": 10,
   "metadata": {},
   "outputs": [
    {
     "name": "stdout",
     "output_type": "stream",
     "text": [
      "                      name                   club\n",
      "0            Marijan Coric      Parma Calcio 1913\n",
      "1   Vanja Milinković-Savić              Torino FC\n",
      "2            Lacina Traore              Amiens SC\n",
      "3                Abdoul Ba                RC Lens\n",
      "4              Demba Thiam                   SPAL\n",
      "5             Arda Özcimen                Göztepe\n",
      "6        Costel Pantilimon            Denizlispor\n",
      "7           Nurullah Aslan         MKE Ankaragücü\n",
      "8          Lucas Bergström             Chelsea FC\n",
      "9              Isaak Touré             AJ Auxerre\n",
      "10             Vanja Ivesa             Elazigspor\n",
      "11              Issa Ndoye   SpVgg Greuther Fürth\n",
      "12             Melih Akyüz              Kasimpasa\n",
      "13          Simon Lefebvre  FC Girondins Bordeaux\n"
     ]
    }
   ],
   "source": [
    "query = \"\"\"\n",
    "SELECT p.name, c.name AS 'club'\n",
    "FROM clubs c \n",
    "JOIN players p \n",
    "ON p.current_club_id = c.club_id\n",
    "WHERE p.height_in_cm > 201\n",
    "\"\"\"\n",
    "\n",
    "result = pd.read_sql(query, engine)\n",
    "print(result)"
   ]
  }
 ],
 "metadata": {
  "kernelspec": {
   "display_name": "Python 3",
   "language": "python",
   "name": "python3"
  },
  "language_info": {
   "codemirror_mode": {
    "name": "ipython",
    "version": 3
   },
   "file_extension": ".py",
   "mimetype": "text/x-python",
   "name": "python",
   "nbconvert_exporter": "python",
   "pygments_lexer": "ipython3",
   "version": "3.9.1"
  },
  "orig_nbformat": 4
 },
 "nbformat": 4,
 "nbformat_minor": 2
}
